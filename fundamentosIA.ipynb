{
  "cells": [
    {
      "cell_type": "markdown",
      "metadata": {
        "id": "_i-DDRSeQbw2"
      },
      "source": [
        "# Exemplo Prático: Workflow IA\n",
        "\n",
        "## Classificação de Flores Íris\n",
        "\n",
        "O objetivo nessa prática é apresentar o workflow básico pra criação de um modelo inteligente para solucionar um problema de classificação. Desta forma, vamos realizar, passo a passo, as quatro principais etapas do processo: Extração de atributos, Divisão dos dados, Treinamento do modelo e Avaliação do modelo."
      ]
    },
    {
      "cell_type": "code",
      "execution_count": 8,
      "metadata": {},
      "outputs": [
        {
          "name": "stdout",
          "output_type": "stream",
          "text": [
            "Requirement already satisfied: matplotlib in c:\\users\\migue\\appdata\\local\\programs\\python\\python313\\lib\\site-packages (3.10.3)\n",
            "Requirement already satisfied: contourpy>=1.0.1 in c:\\users\\migue\\appdata\\local\\programs\\python\\python313\\lib\\site-packages (from matplotlib) (1.3.2)\n",
            "Requirement already satisfied: cycler>=0.10 in c:\\users\\migue\\appdata\\local\\programs\\python\\python313\\lib\\site-packages (from matplotlib) (0.12.1)\n",
            "Requirement already satisfied: fonttools>=4.22.0 in c:\\users\\migue\\appdata\\local\\programs\\python\\python313\\lib\\site-packages (from matplotlib) (4.58.5)\n",
            "Requirement already satisfied: kiwisolver>=1.3.1 in c:\\users\\migue\\appdata\\local\\programs\\python\\python313\\lib\\site-packages (from matplotlib) (1.4.8)\n",
            "Requirement already satisfied: numpy>=1.23 in c:\\users\\migue\\appdata\\local\\programs\\python\\python313\\lib\\site-packages (from matplotlib) (2.3.0)\n",
            "Requirement already satisfied: packaging>=20.0 in c:\\users\\migue\\appdata\\local\\programs\\python\\python313\\lib\\site-packages (from matplotlib) (25.0)\n",
            "Requirement already satisfied: pillow>=8 in c:\\users\\migue\\appdata\\local\\programs\\python\\python313\\lib\\site-packages (from matplotlib) (11.3.0)\n",
            "Requirement already satisfied: pyparsing>=2.3.1 in c:\\users\\migue\\appdata\\local\\programs\\python\\python313\\lib\\site-packages (from matplotlib) (3.2.3)\n",
            "Requirement already satisfied: python-dateutil>=2.7 in c:\\users\\migue\\appdata\\local\\programs\\python\\python313\\lib\\site-packages (from matplotlib) (2.9.0.post0)\n",
            "Requirement already satisfied: six>=1.5 in c:\\users\\migue\\appdata\\local\\programs\\python\\python313\\lib\\site-packages (from python-dateutil>=2.7->matplotlib) (1.17.0)\n"
          ]
        }
      ],
      "source": [
        "pip install matplotlib\n"
      ]
    },
    {
      "cell_type": "code",
      "execution_count": 9,
      "metadata": {
        "colab": {
          "base_uri": "https://localhost:8080/"
        },
        "id": "WZmXzDAMQUzi",
        "outputId": "bd7ed2f4-321b-4eb2-bce2-337b108e101c"
      },
      "outputs": [
        {
          "data": {
            "text/plain": [
              "(5596, 14)"
            ]
          },
          "execution_count": 9,
          "metadata": {},
          "output_type": "execute_result"
        }
      ],
      "source": [
        "# Carregar e entender os dados\n",
        "\n",
        "# biblioteca para carregar e realizar operações tabulares\n",
        "import pandas as pd\n",
        "\n",
        "# biblioteca para plotar gráficos\n",
        "import matplotlib.pyplot as plt \n",
        "\n",
        "\n",
        "# dataset, arquivo com os dados sobre a covid19 nas cisdades do BR\n",
        "arquivo  = 'cases-brazil-cities.csv'\n",
        "\n",
        "# carregando o conteúdo do arquivo em um objeto pandas.DataFrame\n",
        "# a partir do método de carregamento de arquivo read_csv\n",
        "# especificando que a primeira linha contém os nomes do cabeçalho\n",
        "dataset = pd.read_csv(arquivo, sep=',')\n",
        "cols = ['deaths','ibgeID', 'totalCases', 'deaths_per_100k_inhabitants', 'totalCases_per_100k_inhabitants', 'deaths_by_totalCases', 'newCases',\n",
        "        'newDeaths']\n",
        "dataset[cols] = dataset[cols].apply(pd.to_numeric, errors='coerce').fillna(0.0)\n",
        "\n",
        "\n",
        "# exibindo a dimensão dos dados carregados (linhas, colunas)\n",
        "dataset.shape"
      ]
    },
    {
      "cell_type": "code",
      "execution_count": 12,
      "metadata": {
        "colab": {
          "base_uri": "https://localhost:8080/",
          "height": 556
        },
        "id": "1am9UD_LdY_N",
        "outputId": "47815d01-f560-41d5-edab-8d6f50d9f3d9"
      },
      "outputs": [
        {
          "data": {
            "text/html": [
              "<div>\n",
              "<style scoped>\n",
              "    .dataframe tbody tr th:only-of-type {\n",
              "        vertical-align: middle;\n",
              "    }\n",
              "\n",
              "    .dataframe tbody tr th {\n",
              "        vertical-align: top;\n",
              "    }\n",
              "\n",
              "    .dataframe thead th {\n",
              "        text-align: right;\n",
              "    }\n",
              "</style>\n",
              "<table border=\"1\" class=\"dataframe\">\n",
              "  <thead>\n",
              "    <tr style=\"text-align: right;\">\n",
              "      <th></th>\n",
              "      <th>country</th>\n",
              "      <th>state</th>\n",
              "      <th>city</th>\n",
              "      <th>ibgeID</th>\n",
              "      <th>deaths</th>\n",
              "      <th>totalCases</th>\n",
              "      <th>deaths_per_100k_inhabitants</th>\n",
              "      <th>totalCases_per_100k_inhabitants</th>\n",
              "      <th>deaths_by_totalCases</th>\n",
              "      <th>_source</th>\n",
              "      <th>date</th>\n",
              "      <th>newCases</th>\n",
              "      <th>newDeaths</th>\n",
              "      <th>last_info_date</th>\n",
              "    </tr>\n",
              "  </thead>\n",
              "  <tbody>\n",
              "    <tr>\n",
              "      <th>0</th>\n",
              "      <td>Brazil</td>\n",
              "      <td>GO</td>\n",
              "      <td>Abadia de Goiás/GO</td>\n",
              "      <td>5200050</td>\n",
              "      <td>50</td>\n",
              "      <td>4074</td>\n",
              "      <td>545.97074</td>\n",
              "      <td>44485.69557</td>\n",
              "      <td>0.01227</td>\n",
              "      <td>MS</td>\n",
              "      <td>2023-03-18</td>\n",
              "      <td>5</td>\n",
              "      <td>0</td>\n",
              "      <td>2023-03-18</td>\n",
              "    </tr>\n",
              "    <tr>\n",
              "      <th>1</th>\n",
              "      <td>Brazil</td>\n",
              "      <td>MG</td>\n",
              "      <td>Abadia dos Dourados/MG</td>\n",
              "      <td>3100104</td>\n",
              "      <td>21</td>\n",
              "      <td>1943</td>\n",
              "      <td>299.06010</td>\n",
              "      <td>27670.17944</td>\n",
              "      <td>0.01081</td>\n",
              "      <td>MS</td>\n",
              "      <td>2023-03-18</td>\n",
              "      <td>0</td>\n",
              "      <td>0</td>\n",
              "      <td>2023-03-18</td>\n",
              "    </tr>\n",
              "    <tr>\n",
              "      <th>2</th>\n",
              "      <td>Brazil</td>\n",
              "      <td>GO</td>\n",
              "      <td>Abadiânia/GO</td>\n",
              "      <td>5200100</td>\n",
              "      <td>55</td>\n",
              "      <td>2218</td>\n",
              "      <td>263.49830</td>\n",
              "      <td>10626.16778</td>\n",
              "      <td>0.02480</td>\n",
              "      <td>MS</td>\n",
              "      <td>2023-03-18</td>\n",
              "      <td>-1</td>\n",
              "      <td>0</td>\n",
              "      <td>2023-03-18</td>\n",
              "    </tr>\n",
              "    <tr>\n",
              "      <th>3</th>\n",
              "      <td>Brazil</td>\n",
              "      <td>PA</td>\n",
              "      <td>Abaetetuba/PA</td>\n",
              "      <td>1500107</td>\n",
              "      <td>244</td>\n",
              "      <td>12009</td>\n",
              "      <td>152.08272</td>\n",
              "      <td>7485.08779</td>\n",
              "      <td>0.02032</td>\n",
              "      <td>MS</td>\n",
              "      <td>2023-03-18</td>\n",
              "      <td>13</td>\n",
              "      <td>0</td>\n",
              "      <td>2023-03-18</td>\n",
              "    </tr>\n",
              "    <tr>\n",
              "      <th>4</th>\n",
              "      <td>Brazil</td>\n",
              "      <td>MG</td>\n",
              "      <td>Abaeté/MG</td>\n",
              "      <td>3100203</td>\n",
              "      <td>51</td>\n",
              "      <td>4279</td>\n",
              "      <td>219.23226</td>\n",
              "      <td>18394.01625</td>\n",
              "      <td>0.01192</td>\n",
              "      <td>MS</td>\n",
              "      <td>2023-03-18</td>\n",
              "      <td>0</td>\n",
              "      <td>0</td>\n",
              "      <td>2023-03-18</td>\n",
              "    </tr>\n",
              "    <tr>\n",
              "      <th>5</th>\n",
              "      <td>Brazil</td>\n",
              "      <td>CE</td>\n",
              "      <td>Abaiara/CE</td>\n",
              "      <td>2300101</td>\n",
              "      <td>20</td>\n",
              "      <td>1362</td>\n",
              "      <td>167.15420</td>\n",
              "      <td>11383.20100</td>\n",
              "      <td>0.01468</td>\n",
              "      <td>MS</td>\n",
              "      <td>2023-03-18</td>\n",
              "      <td>0</td>\n",
              "      <td>0</td>\n",
              "      <td>2023-03-18</td>\n",
              "    </tr>\n",
              "    <tr>\n",
              "      <th>6</th>\n",
              "      <td>Brazil</td>\n",
              "      <td>BA</td>\n",
              "      <td>Abaré/BA</td>\n",
              "      <td>2900207</td>\n",
              "      <td>18</td>\n",
              "      <td>3008</td>\n",
              "      <td>87.40410</td>\n",
              "      <td>14606.19598</td>\n",
              "      <td>0.00598</td>\n",
              "      <td>MS</td>\n",
              "      <td>2023-03-18</td>\n",
              "      <td>0</td>\n",
              "      <td>0</td>\n",
              "      <td>2023-03-18</td>\n",
              "    </tr>\n",
              "    <tr>\n",
              "      <th>7</th>\n",
              "      <td>Brazil</td>\n",
              "      <td>PR</td>\n",
              "      <td>Abatiá/PR</td>\n",
              "      <td>4100103</td>\n",
              "      <td>24</td>\n",
              "      <td>1774</td>\n",
              "      <td>326.08696</td>\n",
              "      <td>24103.26087</td>\n",
              "      <td>0.01353</td>\n",
              "      <td>MS</td>\n",
              "      <td>2023-03-18</td>\n",
              "      <td>0</td>\n",
              "      <td>0</td>\n",
              "      <td>2023-03-18</td>\n",
              "    </tr>\n",
              "    <tr>\n",
              "      <th>8</th>\n",
              "      <td>Brazil</td>\n",
              "      <td>BA</td>\n",
              "      <td>Abaíra/BA</td>\n",
              "      <td>2900108</td>\n",
              "      <td>17</td>\n",
              "      <td>361</td>\n",
              "      <td>195.82997</td>\n",
              "      <td>4158.50708</td>\n",
              "      <td>0.04709</td>\n",
              "      <td>MS</td>\n",
              "      <td>2023-03-18</td>\n",
              "      <td>0</td>\n",
              "      <td>0</td>\n",
              "      <td>2023-03-18</td>\n",
              "    </tr>\n",
              "    <tr>\n",
              "      <th>9</th>\n",
              "      <td>Brazil</td>\n",
              "      <td>SC</td>\n",
              "      <td>Abdon Batista/SC</td>\n",
              "      <td>4200051</td>\n",
              "      <td>4</td>\n",
              "      <td>540</td>\n",
              "      <td>157.85320</td>\n",
              "      <td>21310.18153</td>\n",
              "      <td>0.00741</td>\n",
              "      <td>MS</td>\n",
              "      <td>2023-03-18</td>\n",
              "      <td>0</td>\n",
              "      <td>0</td>\n",
              "      <td>2023-03-18</td>\n",
              "    </tr>\n",
              "  </tbody>\n",
              "</table>\n",
              "</div>"
            ],
            "text/plain": [
              "  country state                    city   ibgeID  deaths  totalCases  \\\n",
              "0  Brazil    GO      Abadia de Goiás/GO  5200050      50        4074   \n",
              "1  Brazil    MG  Abadia dos Dourados/MG  3100104      21        1943   \n",
              "2  Brazil    GO            Abadiânia/GO  5200100      55        2218   \n",
              "3  Brazil    PA           Abaetetuba/PA  1500107     244       12009   \n",
              "4  Brazil    MG               Abaeté/MG  3100203      51        4279   \n",
              "5  Brazil    CE              Abaiara/CE  2300101      20        1362   \n",
              "6  Brazil    BA                Abaré/BA  2900207      18        3008   \n",
              "7  Brazil    PR               Abatiá/PR  4100103      24        1774   \n",
              "8  Brazil    BA               Abaíra/BA  2900108      17         361   \n",
              "9  Brazil    SC        Abdon Batista/SC  4200051       4         540   \n",
              "\n",
              "   deaths_per_100k_inhabitants  totalCases_per_100k_inhabitants  \\\n",
              "0                    545.97074                      44485.69557   \n",
              "1                    299.06010                      27670.17944   \n",
              "2                    263.49830                      10626.16778   \n",
              "3                    152.08272                       7485.08779   \n",
              "4                    219.23226                      18394.01625   \n",
              "5                    167.15420                      11383.20100   \n",
              "6                     87.40410                      14606.19598   \n",
              "7                    326.08696                      24103.26087   \n",
              "8                    195.82997                       4158.50708   \n",
              "9                    157.85320                      21310.18153   \n",
              "\n",
              "   deaths_by_totalCases _source        date  newCases  newDeaths  \\\n",
              "0               0.01227      MS  2023-03-18         5          0   \n",
              "1               0.01081      MS  2023-03-18         0          0   \n",
              "2               0.02480      MS  2023-03-18        -1          0   \n",
              "3               0.02032      MS  2023-03-18        13          0   \n",
              "4               0.01192      MS  2023-03-18         0          0   \n",
              "5               0.01468      MS  2023-03-18         0          0   \n",
              "6               0.00598      MS  2023-03-18         0          0   \n",
              "7               0.01353      MS  2023-03-18         0          0   \n",
              "8               0.04709      MS  2023-03-18         0          0   \n",
              "9               0.00741      MS  2023-03-18         0          0   \n",
              "\n",
              "  last_info_date  \n",
              "0     2023-03-18  \n",
              "1     2023-03-18  \n",
              "2     2023-03-18  \n",
              "3     2023-03-18  \n",
              "4     2023-03-18  \n",
              "5     2023-03-18  \n",
              "6     2023-03-18  \n",
              "7     2023-03-18  \n",
              "8     2023-03-18  \n",
              "9     2023-03-18  "
            ]
          },
          "execution_count": 12,
          "metadata": {},
          "output_type": "execute_result"
        }
      ],
      "source": [
        "# exibindo as 10 primeiras linhas de valores contidos no dataset\n",
        "dataset.head(10)\n",
        "# exibindo os 10 últimas linhas de valores do dataset\n",
        "#dataset.tail(10)"
      ]
    },
    {
      "cell_type": "code",
      "execution_count": 13,
      "metadata": {
        "colab": {
          "base_uri": "https://localhost:8080/",
          "height": 118
        },
        "id": "rZq_S4imUlXC",
        "outputId": "84a5ddcd-af40-407f-a2b8-b9d86d6cb3ff"
      },
      "outputs": [
        {
          "data": {
            "text/html": [
              "<div>\n",
              "<style scoped>\n",
              "    .dataframe tbody tr th:only-of-type {\n",
              "        vertical-align: middle;\n",
              "    }\n",
              "\n",
              "    .dataframe tbody tr th {\n",
              "        vertical-align: top;\n",
              "    }\n",
              "\n",
              "    .dataframe thead th {\n",
              "        text-align: right;\n",
              "    }\n",
              "</style>\n",
              "<table border=\"1\" class=\"dataframe\">\n",
              "  <thead>\n",
              "    <tr style=\"text-align: right;\">\n",
              "      <th></th>\n",
              "      <th>country</th>\n",
              "      <th>state</th>\n",
              "      <th>city</th>\n",
              "      <th>ibgeID</th>\n",
              "      <th>deaths</th>\n",
              "      <th>totalCases</th>\n",
              "      <th>deaths_per_100k_inhabitants</th>\n",
              "      <th>totalCases_per_100k_inhabitants</th>\n",
              "      <th>deaths_by_totalCases</th>\n",
              "      <th>_source</th>\n",
              "      <th>date</th>\n",
              "      <th>newCases</th>\n",
              "      <th>newDeaths</th>\n",
              "      <th>last_info_date</th>\n",
              "    </tr>\n",
              "  </thead>\n",
              "  <tbody>\n",
              "    <tr>\n",
              "      <th>2647</th>\n",
              "      <td>Brazil</td>\n",
              "      <td>BA</td>\n",
              "      <td>Jussari/BA</td>\n",
              "      <td>2918555</td>\n",
              "      <td>12</td>\n",
              "      <td>890</td>\n",
              "      <td>210.30494</td>\n",
              "      <td>15597.61654</td>\n",
              "      <td>0.01348</td>\n",
              "      <td>MS</td>\n",
              "      <td>2023-03-18</td>\n",
              "      <td>2</td>\n",
              "      <td>0</td>\n",
              "      <td>2023-03-18</td>\n",
              "    </tr>\n",
              "  </tbody>\n",
              "</table>\n",
              "</div>"
            ],
            "text/plain": [
              "     country state        city   ibgeID  deaths  totalCases  \\\n",
              "2647  Brazil    BA  Jussari/BA  2918555      12         890   \n",
              "\n",
              "      deaths_per_100k_inhabitants  totalCases_per_100k_inhabitants  \\\n",
              "2647                    210.30494                      15597.61654   \n",
              "\n",
              "      deaths_by_totalCases _source        date  newCases  newDeaths  \\\n",
              "2647               0.01348      MS  2023-03-18         2          0   \n",
              "\n",
              "     last_info_date  \n",
              "2647     2023-03-18  "
            ]
          },
          "execution_count": 13,
          "metadata": {},
          "output_type": "execute_result"
        }
      ],
      "source": [
        "# para acesssar uma linha aleatória\n",
        "dataset.iloc[23] #linha especifica\n",
        "dataset.sample() #linha aleatoria"
      ]
    },
    {
      "cell_type": "code",
      "execution_count": 14,
      "metadata": {
        "colab": {
          "base_uri": "https://localhost:8080/",
          "height": 962
        },
        "id": "roxtBJYxVSLz",
        "outputId": "395dcdff-e237-4905-eb47-7482d8cebe04"
      },
      "outputs": [
        {
          "data": {
            "text/plain": [
              "state\n",
              "SP    179039\n",
              "RJ     76852\n",
              "MG     65507\n",
              "PR     46022\n",
              "RS     41921\n",
              "BA     31459\n",
              "CE     28157\n",
              "GO     28041\n",
              "SC     22703\n",
              "PE     22687\n",
              "PA     19025\n",
              "MT     15090\n",
              "ES     15041\n",
              "AM     14443\n",
              "DF     11845\n",
              "MA     11053\n",
              "MS     11016\n",
              "PB     10542\n",
              "RN      8715\n",
              "PI      8354\n",
              "RO      7432\n",
              "AL      7242\n",
              "SE      6502\n",
              "TO      4232\n",
              "RR      2180\n",
              "AP      2167\n",
              "AC      2043\n",
              "Name: deaths, dtype: int64"
            ]
          },
          "execution_count": 14,
          "metadata": {},
          "output_type": "execute_result"
        }
      ],
      "source": [
        "# para saber a quantidade mortes por estado\n",
        "dataset.groupby('state')['deaths'].sum().sort_values(ascending=False)\n",
        "\n"
      ]
    },
    {
      "cell_type": "code",
      "execution_count": 15,
      "metadata": {
        "colab": {
          "base_uri": "https://localhost:8080/",
          "height": 320
        },
        "id": "S6GQqTYuU2t1",
        "outputId": "7d63f2d1-2897-4bce-beea-d4527be15af0"
      },
      "outputs": [
        {
          "data": {
            "text/html": [
              "<div>\n",
              "<style scoped>\n",
              "    .dataframe tbody tr th:only-of-type {\n",
              "        vertical-align: middle;\n",
              "    }\n",
              "\n",
              "    .dataframe tbody tr th {\n",
              "        vertical-align: top;\n",
              "    }\n",
              "\n",
              "    .dataframe thead th {\n",
              "        text-align: right;\n",
              "    }\n",
              "</style>\n",
              "<table border=\"1\" class=\"dataframe\">\n",
              "  <thead>\n",
              "    <tr style=\"text-align: right;\">\n",
              "      <th></th>\n",
              "      <th>ibgeID</th>\n",
              "      <th>deaths</th>\n",
              "      <th>totalCases</th>\n",
              "      <th>deaths_per_100k_inhabitants</th>\n",
              "      <th>totalCases_per_100k_inhabitants</th>\n",
              "      <th>deaths_by_totalCases</th>\n",
              "      <th>newCases</th>\n",
              "      <th>newDeaths</th>\n",
              "    </tr>\n",
              "  </thead>\n",
              "  <tbody>\n",
              "    <tr>\n",
              "      <th>count</th>\n",
              "      <td>5.596000e+03</td>\n",
              "      <td>5596.000000</td>\n",
              "      <td>5.596000e+03</td>\n",
              "      <td>5596.000000</td>\n",
              "      <td>5596.000000</td>\n",
              "      <td>5596.000000</td>\n",
              "      <td>5596.00000</td>\n",
              "      <td>5596.000000</td>\n",
              "    </tr>\n",
              "    <tr>\n",
              "      <th>mean</th>\n",
              "      <td>3.238474e+06</td>\n",
              "      <td>124.966047</td>\n",
              "      <td>6.627148e+03</td>\n",
              "      <td>264.415356</td>\n",
              "      <td>18658.703740</td>\n",
              "      <td>0.016965</td>\n",
              "      <td>0.00000</td>\n",
              "      <td>0.000000</td>\n",
              "    </tr>\n",
              "    <tr>\n",
              "      <th>std</th>\n",
              "      <td>1.007226e+06</td>\n",
              "      <td>916.348086</td>\n",
              "      <td>3.309353e+04</td>\n",
              "      <td>239.989853</td>\n",
              "      <td>11756.863055</td>\n",
              "      <td>0.012580</td>\n",
              "      <td>352.51623</td>\n",
              "      <td>2.162975</td>\n",
              "    </tr>\n",
              "    <tr>\n",
              "      <th>min</th>\n",
              "      <td>1.100000e+01</td>\n",
              "      <td>-258.000000</td>\n",
              "      <td>-3.702600e+04</td>\n",
              "      <td>-0.695050</td>\n",
              "      <td>-197.437800</td>\n",
              "      <td>0.000000</td>\n",
              "      <td>-17239.00000</td>\n",
              "      <td>-121.000000</td>\n",
              "    </tr>\n",
              "    <tr>\n",
              "      <th>25%</th>\n",
              "      <td>2.510476e+06</td>\n",
              "      <td>11.000000</td>\n",
              "      <td>8.300000e+02</td>\n",
              "      <td>158.520482</td>\n",
              "      <td>10428.822468</td>\n",
              "      <td>0.010000</td>\n",
              "      <td>0.00000</td>\n",
              "      <td>0.000000</td>\n",
              "    </tr>\n",
              "    <tr>\n",
              "      <th>50%</th>\n",
              "      <td>3.145389e+06</td>\n",
              "      <td>25.000000</td>\n",
              "      <td>1.721000e+03</td>\n",
              "      <td>239.550075</td>\n",
              "      <td>16981.620075</td>\n",
              "      <td>0.014150</td>\n",
              "      <td>0.00000</td>\n",
              "      <td>0.000000</td>\n",
              "    </tr>\n",
              "    <tr>\n",
              "      <th>75%</th>\n",
              "      <td>4.118734e+06</td>\n",
              "      <td>63.000000</td>\n",
              "      <td>4.177000e+03</td>\n",
              "      <td>344.662600</td>\n",
              "      <td>25352.456770</td>\n",
              "      <td>0.020243</td>\n",
              "      <td>2.00000</td>\n",
              "      <td>0.000000</td>\n",
              "    </tr>\n",
              "    <tr>\n",
              "      <th>max</th>\n",
              "      <td>5.300108e+06</td>\n",
              "      <td>44671.000000</td>\n",
              "      <td>1.316242e+06</td>\n",
              "      <td>14039.978650</td>\n",
              "      <td>337540.779410</td>\n",
              "      <td>0.312500</td>\n",
              "      <td>10164.00000</td>\n",
              "      <td>52.000000</td>\n",
              "    </tr>\n",
              "  </tbody>\n",
              "</table>\n",
              "</div>"
            ],
            "text/plain": [
              "             ibgeID        deaths    totalCases  deaths_per_100k_inhabitants  \\\n",
              "count  5.596000e+03   5596.000000  5.596000e+03                  5596.000000   \n",
              "mean   3.238474e+06    124.966047  6.627148e+03                   264.415356   \n",
              "std    1.007226e+06    916.348086  3.309353e+04                   239.989853   \n",
              "min    1.100000e+01   -258.000000 -3.702600e+04                    -0.695050   \n",
              "25%    2.510476e+06     11.000000  8.300000e+02                   158.520482   \n",
              "50%    3.145389e+06     25.000000  1.721000e+03                   239.550075   \n",
              "75%    4.118734e+06     63.000000  4.177000e+03                   344.662600   \n",
              "max    5.300108e+06  44671.000000  1.316242e+06                 14039.978650   \n",
              "\n",
              "       totalCases_per_100k_inhabitants  deaths_by_totalCases     newCases  \\\n",
              "count                      5596.000000           5596.000000   5596.00000   \n",
              "mean                      18658.703740              0.016965      0.00000   \n",
              "std                       11756.863055              0.012580    352.51623   \n",
              "min                        -197.437800              0.000000 -17239.00000   \n",
              "25%                       10428.822468              0.010000      0.00000   \n",
              "50%                       16981.620075              0.014150      0.00000   \n",
              "75%                       25352.456770              0.020243      2.00000   \n",
              "max                      337540.779410              0.312500  10164.00000   \n",
              "\n",
              "         newDeaths  \n",
              "count  5596.000000  \n",
              "mean      0.000000  \n",
              "std       2.162975  \n",
              "min    -121.000000  \n",
              "25%       0.000000  \n",
              "50%       0.000000  \n",
              "75%       0.000000  \n",
              "max      52.000000  "
            ]
          },
          "execution_count": 15,
          "metadata": {},
          "output_type": "execute_result"
        }
      ],
      "source": [
        "# para obter um resumo estatístico dos dados\n",
        "dataset.describe()"
      ]
    },
    {
      "cell_type": "code",
      "execution_count": 16,
      "metadata": {
        "colab": {
          "base_uri": "https://localhost:8080/",
          "height": 699
        },
        "id": "T_3DRvwuVpvN",
        "outputId": "fa4d34de-de87-4bd8-d94a-3bca04c39462"
      },
      "outputs": [
        {
          "data": {
            "image/png": "[encoded data removed]",
            "text/plain": [
              "<Figure size 600x800 with 1 Axes>"
            ]
          },
          "metadata": {},
          "output_type": "display_data"
        }
      ],
      "source": [
        "# exibindo um gráfico do tipo 'boxplot' em um grid de 2x2\n",
        "# com coordenadas independentes\n",
        "dataset['deaths'].plot.box(figsize=(6,8), grid=True, vert=True, title='Boxplot de deaths')\n",
        "\n",
        "plt.show()"
      ]
    },
    {
      "cell_type": "code",
      "execution_count": 17,
      "metadata": {
        "colab": {
          "base_uri": "https://localhost:8080/",
          "height": 452
        },
        "id": "DoZygaTeV4BY",
        "outputId": "8375017d-fd63-4722-c6bd-14c0eb81bd03"
      },
      "outputs": [
        {
          "data": {
            "image/png": "[encoded data removed]",
            "text/plain": [
              "<Figure size 640x480 with 9 Axes>"
            ]
          },
          "metadata": {},
          "output_type": "display_data"
        }
      ],
      "source": [
        "# exibindo um gráfico de histogramas para entender a distribuição dos mesmos\n",
        "dataset.hist()\n",
        "plt.show()"
      ]
    },
    {
      "cell_type": "code",
      "execution_count": 18,
      "metadata": {
        "colab": {
          "base_uri": "https://localhost:8080/",
          "height": 480
        },
        "id": "8SzTTfmdXQL5",
        "outputId": "990db242-a062-44ed-bcc3-f7c1a8444a99"
      },
      "outputs": [
        {
          "data": {
            "image/png": "[encoded data removed]",
            "text/plain": [
              "<Figure size 640x480 with 64 Axes>"
            ]
          },
          "metadata": {},
          "output_type": "display_data"
        }
      ],
      "source": [
        "# gráfico tipo 'scatter plot' para verificar correlações entre as variáveis\n",
        "pd.plotting.scatter_matrix(dataset)\n",
        "plt.show()\n"
      ]
    },
    {
      "cell_type": "markdown",
      "metadata": {
        "id": "mNtAUereYFJ4"
      },
      "source": [
        "# 2 - Divisão dos dados\n",
        "\n",
        "Criando dois conjuntos de dados para serem utilizados nas etapas seguintes, treinamento e avaliação.\n",
        "\n",
        "<div>\n",
        "<br/>\n",
        "<img src=\"https://github.com/rafaelmm82/ufpb-ia-20201/raw/master/02-fundamentos_de_ia/02_aula_pratica_classificacao_iris/03_divisao_dados.jpg\", width=\"640\"/>\n",
        "</div>"
      ]
    },
    {
      "cell_type": "code",
      "execution_count": 4,
      "metadata": {},
      "outputs": [
        {
          "name": "stdout",
          "output_type": "stream",
          "text": [
            "Requirement already satisfied: model_selection in c:\\users\\migue\\appdata\\local\\programs\\python\\python313\\lib\\site-packages (0.0.1)\n",
            "Note: you may need to restart the kernel to use updated packages.\n"
          ]
        }
      ],
      "source": [
        "pip install model_selection"
      ]
    },
    {
      "cell_type": "code",
      "execution_count": 4,
      "metadata": {},
      "outputs": [
        {
          "name": "stdout",
          "output_type": "stream",
          "text": [
            "^C\n",
            "Note: you may need to restart the kernel to use updated packages.\n"
          ]
        },
        {
          "name": "stdout",
          "output_type": "stream",
          "text": [
            "Collecting scikit-learn\n",
            "  Downloading scikit_learn-1.7.0-cp313-cp313-win_amd64.whl.metadata (14 kB)\n",
            "Requirement already satisfied: numpy>=1.22.0 in c:\\users\\migue\\appdata\\local\\programs\\python\\python313\\lib\\site-packages (from scikit-learn) (2.3.0)\n",
            "Collecting scipy>=1.8.0 (from scikit-learn)\n",
            "  Downloading scipy-1.16.0-cp313-cp313-win_amd64.whl.metadata (60 kB)\n",
            "Collecting joblib>=1.2.0 (from scikit-learn)\n",
            "  Downloading joblib-1.5.1-py3-none-any.whl.metadata (5.6 kB)\n",
            "Collecting threadpoolctl>=3.1.0 (from scikit-learn)\n",
            "  Downloading threadpoolctl-3.6.0-py3-none-any.whl.metadata (13 kB)\n",
            "Downloading scikit_learn-1.7.0-cp313-cp313-win_amd64.whl (10.7 MB)\n",
            "   ---------------------------------------- 0.0/10.7 MB ? eta -:--:--\n",
            "   ---------------------------------------- 0.0/10.7 MB ? eta -:--:--\n",
            "   -- ------------------------------------- 0.8/10.7 MB 3.4 MB/s eta 0:00:03\n",
            "   ----- ---------------------------------- 1.6/10.7 MB 3.5 MB/s eta 0:00:03\n",
            "   --------- ------------------------------ 2.6/10.7 MB 3.8 MB/s eta 0:00:03\n",
            "   ---------- ----------------------------- 2.9/10.7 MB 3.8 MB/s eta 0:00:03\n",
            "   ------------ --------------------------- 3.4/10.7 MB 3.2 MB/s eta 0:00:03\n",
            "   ----------------- ---------------------- 4.7/10.7 MB 3.6 MB/s eta 0:00:02\n",
            "   --------------------- ------------------ 5.8/10.7 MB 3.8 MB/s eta 0:00:02\n",
            "   ------------------------- -------------- 6.8/10.7 MB 4.0 MB/s eta 0:00:01\n",
            "   ------------------------------- -------- 8.4/10.7 MB 4.3 MB/s eta 0:00:01\n",
            "   ------------------------------------ --- 9.7/10.7 MB 4.6 MB/s eta 0:00:01\n",
            "   ---------------------------------------  10.5/10.7 MB 4.6 MB/s eta 0:00:01\n",
            "   ---------------------------------------- 10.7/10.7 MB 4.5 MB/s eta 0:00:00\n",
            "Downloading joblib-1.5.1-py3-none-any.whl (307 kB)\n",
            "Downloading scipy-1.16.0-cp313-cp313-win_amd64.whl (38.4 MB)\n",
            "   ---------------------------------------- 0.0/38.4 MB ? eta -:--:--\n",
            "    --------------------------------------- 0.8/38.4 MB 2.6 MB/s eta 0:00:15\n",
            "   - -------------------------------------- 1.8/38.4 MB 4.2 MB/s eta 0:00:09\n",
            "   --- ------------------------------------ 3.1/38.4 MB 4.9 MB/s eta 0:00:08\n",
            "   ---- ----------------------------------- 3.9/38.4 MB 4.5 MB/s eta 0:00:08\n",
            "   ----- ---------------------------------- 5.2/38.4 MB 4.9 MB/s eta 0:00:07\n",
            "   ------ --------------------------------- 6.6/38.4 MB 5.0 MB/s eta 0:00:07\n",
            "   -------- ------------------------------- 7.9/38.4 MB 5.3 MB/s eta 0:00:06\n",
            "   --------- ------------------------------ 9.4/38.4 MB 5.5 MB/s eta 0:00:06\n",
            "   ----------- ---------------------------- 10.7/38.4 MB 5.6 MB/s eta 0:00:05\n",
            "   ------------ --------------------------- 12.3/38.4 MB 5.8 MB/s eta 0:00:05\n",
            "   -------------- ------------------------- 13.6/38.4 MB 5.9 MB/s eta 0:00:05\n",
            "   --------------- ------------------------ 14.7/38.4 MB 6.0 MB/s eta 0:00:04\n",
            "   ---------------- ----------------------- 16.3/38.4 MB 5.9 MB/s eta 0:00:04\n",
            "   ----------------- ---------------------- 17.0/38.4 MB 5.8 MB/s eta 0:00:04\n",
            "   ------------------ --------------------- 17.8/38.4 MB 5.7 MB/s eta 0:00:04\n",
            "   -------------------- ------------------- 19.4/38.4 MB 5.8 MB/s eta 0:00:04\n",
            "   --------------------- ------------------ 21.0/38.4 MB 5.9 MB/s eta 0:00:03\n",
            "   ----------------------- ---------------- 22.3/38.4 MB 5.9 MB/s eta 0:00:03\n",
            "   ------------------------ --------------- 23.3/38.4 MB 5.9 MB/s eta 0:00:03\n",
            "   ------------------------- -------------- 24.4/38.4 MB 5.8 MB/s eta 0:00:03\n",
            "   -------------------------- ------------- 25.4/38.4 MB 5.8 MB/s eta 0:00:03\n",
            "   ---------------------------- ----------- 27.0/38.4 MB 5.8 MB/s eta 0:00:02\n",
            "   ----------------------------- ---------- 28.3/38.4 MB 5.9 MB/s eta 0:00:02\n",
            "   ------------------------------- -------- 29.9/38.4 MB 5.9 MB/s eta 0:00:02\n",
            "   -------------------------------- ------- 30.9/38.4 MB 6.0 MB/s eta 0:00:02\n",
            "   --------------------------------- ------ 32.0/38.4 MB 5.9 MB/s eta 0:00:02\n",
            "   ---------------------------------- ----- 33.6/38.4 MB 5.9 MB/s eta 0:00:01\n",
            "   ----------------------------------- ---- 34.1/38.4 MB 5.8 MB/s eta 0:00:01\n",
            "   ------------------------------------ --- 35.4/38.4 MB 5.9 MB/s eta 0:00:01\n",
            "   ------------------------------------- -- 35.7/38.4 MB 5.7 MB/s eta 0:00:01\n",
            "   -------------------------------------- - 36.7/38.4 MB 5.6 MB/s eta 0:00:01\n",
            "   ---------------------------------------  38.0/38.4 MB 5.7 MB/s eta 0:00:01\n",
            "   ---------------------------------------- 38.4/38.4 MB 5.6 MB/s eta 0:00:00\n",
            "Downloading threadpoolctl-3.6.0-py3-none-any.whl (18 kB)\n",
            "Installing collected packages: threadpoolctl, scipy, joblib, scikit-learn\n",
            "\n",
            "   ---------- ----------------------------- 1/4 [scipy]\n",
            "   ---------- ----------------------------- 1/4 [scipy]\n",
            "   ---------- ----------------------------- 1/4 [scipy]\n",
            "   ---------- ----------------------------- 1/4 [scipy]\n",
            "   ---------- ----------------------------- 1/4 [scipy]\n",
            "   ---------- ----------------------------- 1/4 [scipy]\n",
            "   ---------- ----------------------------- 1/4 [scipy]\n",
            "   ---------- ----------------------------- 1/4 [scipy]\n",
            "   ---------- ----------------------------- 1/4 [scipy]\n",
            "   ---------- ----------------------------- 1/4 [scipy]\n",
            "   ---------- ----------------------------- 1/4 [scipy]\n",
            "   ---------- ----------------------------- 1/4 [scipy]\n",
            "   ---------- ----------------------------- 1/4 [scipy]\n",
            "   ---------- ----------------------------- 1/4 [scipy]\n",
            "   ---------- ----------------------------- 1/4 [scipy]\n",
            "   ---------- ----------------------------- 1/4 [scipy]\n",
            "   ---------- ----------------------------- 1/4 [scipy]\n",
            "   ---------- ----------------------------- 1/4 [scipy]\n",
            "   ---------- ----------------------------- 1/4 [scipy]\n",
            "   ---------- ----------------------------- 1/4 [scipy]\n",
            "   ---------- ----------------------------- 1/4 [scipy]\n",
            "   ---------- ----------------------------- 1/4 [scipy]\n",
            "   ---------- ----------------------------- 1/4 [scipy]\n",
            "   ---------- ----------------------------- 1/4 [scipy]\n",
            "   ---------- ----------------------------- 1/4 [scipy]\n",
            "   ---------- ----------------------------- 1/4 [scipy]\n",
            "   ---------- ----------------------------- 1/4 [scipy]\n",
            "   ---------- ----------------------------- 1/4 [scipy]\n",
            "   ---------- ----------------------------- 1/4 [scipy]\n",
            "   ---------- ----------------------------- 1/4 [scipy]\n",
            "   ---------- ----------------------------- 1/4 [scipy]\n",
            "   ---------- ----------------------------- 1/4 [scipy]\n",
            "   ---------- ----------------------------- 1/4 [scipy]\n",
            "   ---------- ----------------------------- 1/4 [scipy]\n",
            "   ---------- ----------------------------- 1/4 [scipy]\n",
            "   ---------- ----------------------------- 1/4 [scipy]\n",
            "   ---------- ----------------------------- 1/4 [scipy]\n",
            "   ---------- ----------------------------- 1/4 [scipy]\n",
            "   ---------- ----------------------------- 1/4 [scipy]\n",
            "   ---------- ----------------------------- 1/4 [scipy]\n",
            "   ---------- ----------------------------- 1/4 [scipy]\n",
            "   ---------- ----------------------------- 1/4 [scipy]\n",
            "   ---------- ----------------------------- 1/4 [scipy]\n",
            "   ---------- ----------------------------- 1/4 [scipy]\n",
            "   ---------- ----------------------------- 1/4 [scipy]\n",
            "   ---------- ----------------------------- 1/4 [scipy]\n",
            "   ---------- ----------------------------- 1/4 [scipy]\n",
            "   ---------- ----------------------------- 1/4 [scipy]\n",
            "   ---------- ----------------------------- 1/4 [scipy]\n",
            "   ---------- ----------------------------- 1/4 [scipy]\n",
            "   ---------- ----------------------------- 1/4 [scipy]\n",
            "   ---------- ----------------------------- 1/4 [scipy]\n",
            "   ---------- ----------------------------- 1/4 [scipy]\n",
            "   ---------- ----------------------------- 1/4 [scipy]\n",
            "   ---------- ----------------------------- 1/4 [scipy]\n",
            "   ---------- ----------------------------- 1/4 [scipy]\n",
            "   ---------- ----------------------------- 1/4 [scipy]\n",
            "   ---------- ----------------------------- 1/4 [scipy]\n",
            "   ---------- ----------------------------- 1/4 [scipy]\n",
            "   ---------- ----------------------------- 1/4 [scipy]\n",
            "   ---------- ----------------------------- 1/4 [scipy]\n",
            "   ---------- ----------------------------- 1/4 [scipy]\n",
            "   ---------- ----------------------------- 1/4 [scipy]\n",
            "   ---------- ----------------------------- 1/4 [scipy]\n",
            "   ---------- ----------------------------- 1/4 [scipy]\n",
            "   ---------- ----------------------------- 1/4 [scipy]\n",
            "   ---------- ----------------------------- 1/4 [scipy]\n",
            "   ---------- ----------------------------- 1/4 [scipy]\n",
            "   ---------- ----------------------------- 1/4 [scipy]\n",
            "   ---------- ----------------------------- 1/4 [scipy]\n",
            "   ---------- ----------------------------- 1/4 [scipy]\n",
            "   ---------- ----------------------------- 1/4 [scipy]\n",
            "   ---------- ----------------------------- 1/4 [scipy]\n",
            "   ---------- ----------------------------- 1/4 [scipy]\n",
            "   ---------- ----------------------------- 1/4 [scipy]\n",
            "   ---------- ----------------------------- 1/4 [scipy]\n",
            "   ---------- ----------------------------- 1/4 [scipy]\n",
            "   ---------- ----------------------------- 1/4 [scipy]\n",
            "   ---------- ----------------------------- 1/4 [scipy]\n",
            "   ---------- ----------------------------- 1/4 [scipy]\n",
            "   ---------- ----------------------------- 1/4 [scipy]\n",
            "   ---------- ----------------------------- 1/4 [scipy]\n",
            "   ---------- ----------------------------- 1/4 [scipy]\n",
            "   ---------- ----------------------------- 1/4 [scipy]\n",
            "   ---------- ----------------------------- 1/4 [scipy]\n",
            "   ---------- ----------------------------- 1/4 [scipy]\n",
            "   ---------- ----------------------------- 1/4 [scipy]\n",
            "   ---------- ----------------------------- 1/4 [scipy]\n",
            "   ---------- ----------------------------- 1/4 [scipy]\n",
            "   ---------- ----------------------------- 1/4 [scipy]\n",
            "   ---------- ----------------------------- 1/4 [scipy]\n",
            "   ---------- ----------------------------- 1/4 [scipy]\n",
            "   ---------- ----------------------------- 1/4 [scipy]\n",
            "   ---------- ----------------------------- 1/4 [scipy]\n",
            "   ---------- ----------------------------- 1/4 [scipy]\n",
            "   ---------- ----------------------------- 1/4 [scipy]\n",
            "   ---------- ----------------------------- 1/4 [scipy]\n",
            "   ---------- ----------------------------- 1/4 [scipy]\n",
            "   ---------- ----------------------------- 1/4 [scipy]\n",
            "   ---------- ----------------------------- 1/4 [scipy]\n",
            "   ---------- ----------------------------- 1/4 [scipy]\n",
            "   ---------- ----------------------------- 1/4 [scipy]\n",
            "   ---------- ----------------------------- 1/4 [scipy]\n",
            "   ---------- ----------------------------- 1/4 [scipy]\n",
            "   ---------- ----------------------------- 1/4 [scipy]\n",
            "   ---------- ----------------------------- 1/4 [scipy]\n",
            "   ---------- ----------------------------- 1/4 [scipy]\n",
            "   ---------- ----------------------------- 1/4 [scipy]\n",
            "   ---------- ----------------------------- 1/4 [scipy]\n",
            "   ---------- ----------------------------- 1/4 [scipy]\n",
            "   ---------- ----------------------------- 1/4 [scipy]\n",
            "   ---------- ----------------------------- 1/4 [scipy]\n",
            "   ---------- ----------------------------- 1/4 [scipy]\n",
            "   ---------- ----------------------------- 1/4 [scipy]\n",
            "   ---------- ----------------------------- 1/4 [scipy]\n",
            "   ---------- ----------------------------- 1/4 [scipy]\n",
            "   ---------- ----------------------------- 1/4 [scipy]\n",
            "   ---------- ----------------------------- 1/4 [scipy]\n",
            "   ---------- ----------------------------- 1/4 [scipy]\n",
            "   ---------- ----------------------------- 1/4 [scipy]\n",
            "   ---------- ----------------------------- 1/4 [scipy]\n",
            "   ---------- ----------------------------- 1/4 [scipy]\n",
            "   ---------- ----------------------------- 1/4 [scipy]\n",
            "   ---------- ----------------------------- 1/4 [scipy]\n",
            "   ---------- ----------------------------- 1/4 [scipy]\n",
            "   ---------- ----------------------------- 1/4 [scipy]\n",
            "   ---------- ----------------------------- 1/4 [scipy]\n",
            "   ---------- ----------------------------- 1/4 [scipy]\n",
            "   ---------- ----------------------------- 1/4 [scipy]\n",
            "   ---------- ----------------------------- 1/4 [scipy]\n",
            "   ---------- ----------------------------- 1/4 [scipy]\n",
            "   ---------- ----------------------------- 1/4 [scipy]\n",
            "   ---------- ----------------------------- 1/4 [scipy]\n",
            "   ---------- ----------------------------- 1/4 [scipy]\n",
            "   ---------- ----------------------------- 1/4 [scipy]\n",
            "   ---------- ----------------------------- 1/4 [scipy]\n",
            "   ---------- ----------------------------- 1/4 [scipy]\n",
            "   ---------- ----------------------------- 1/4 [scipy]\n",
            "   ---------- ----------------------------- 1/4 [scipy]\n",
            "   ---------- ----------------------------- 1/4 [scipy]\n",
            "   ---------- ----------------------------- 1/4 [scipy]\n",
            "   ---------- ----------------------------- 1/4 [scipy]\n",
            "   ---------- ----------------------------- 1/4 [scipy]\n",
            "   ---------- ----------------------------- 1/4 [scipy]\n",
            "   ---------- ----------------------------- 1/4 [scipy]\n",
            "   ---------- ----------------------------- 1/4 [scipy]\n",
            "   ---------- ----------------------------- 1/4 [scipy]\n",
            "   ---------- ----------------------------- 1/4 [scipy]\n",
            "   ---------- ----------------------------- 1/4 [scipy]\n",
            "   ---------- ----------------------------- 1/4 [scipy]\n",
            "   ---------- ----------------------------- 1/4 [scipy]\n",
            "   ---------- ----------------------------- 1/4 [scipy]\n",
            "   ---------- ----------------------------- 1/4 [scipy]\n",
            "   ---------- ----------------------------- 1/4 [scipy]\n",
            "   ---------- ----------------------------- 1/4 [scipy]\n",
            "   ---------- ----------------------------- 1/4 [scipy]\n",
            "   ---------- ----------------------------- 1/4 [scipy]\n",
            "   ---------- ----------------------------- 1/4 [scipy]\n",
            "   ---------- ----------------------------- 1/4 [scipy]\n",
            "   ---------- ----------------------------- 1/4 [scipy]\n",
            "   ---------- ----------------------------- 1/4 [scipy]\n",
            "   -------------------- ------------------- 2/4 [joblib]\n",
            "   -------------------- ------------------- 2/4 [joblib]\n",
            "   -------------------- ------------------- 2/4 [joblib]\n",
            "   -------------------- ------------------- 2/4 [joblib]\n",
            "   -------------------- ------------------- 2/4 [joblib]\n",
            "   -------------------- ------------------- 2/4 [joblib]\n",
            "   -------------------- ------------------- 2/4 [joblib]\n",
            "   -------------------- ------------------- 2/4 [joblib]\n",
            "   -------------------- ------------------- 2/4 [joblib]\n",
            "   -------------------- ------------------- 2/4 [joblib]\n",
            "   -------------------- ------------------- 2/4 [joblib]\n",
            "   -------------------- ------------------- 2/4 [joblib]\n",
            "   -------------------- ------------------- 2/4 [joblib]\n",
            "   -------------------- ------------------- 2/4 [joblib]\n",
            "   -------------------- ------------------- 2/4 [joblib]\n",
            "   ------------------------------ --------- 3/4 [scikit-learn]\n",
            "   ------------------------------ --------- 3/4 [scikit-learn]\n",
            "   ------------------------------ --------- 3/4 [scikit-learn]\n",
            "   ------------------------------ --------- 3/4 [scikit-learn]\n",
            "   ------------------------------ --------- 3/4 [scikit-learn]\n",
            "   ------------------------------ --------- 3/4 [scikit-learn]\n",
            "   ------------------------------ --------- 3/4 [scikit-learn]\n",
            "   ------------------------------ --------- 3/4 [scikit-learn]\n",
            "   ------------------------------ --------- 3/4 [scikit-learn]\n",
            "   ------------------------------ --------- 3/4 [scikit-learn]\n",
            "   ------------------------------ --------- 3/4 [scikit-learn]\n",
            "   ------------------------------ --------- 3/4 [scikit-learn]\n",
            "   ------------------------------ --------- 3/4 [scikit-learn]\n",
            "   ------------------------------ --------- 3/4 [scikit-learn]\n",
            "   ------------------------------ --------- 3/4 [scikit-learn]\n",
            "   ------------------------------ --------- 3/4 [scikit-learn]\n",
            "   ------------------------------ --------- 3/4 [scikit-learn]\n",
            "   ------------------------------ --------- 3/4 [scikit-learn]\n",
            "   ------------------------------ --------- 3/4 [scikit-learn]\n",
            "   ------------------------------ --------- 3/4 [scikit-learn]\n",
            "   ------------------------------ --------- 3/4 [scikit-learn]\n",
            "   ------------------------------ --------- 3/4 [scikit-learn]\n",
            "   ------------------------------ --------- 3/4 [scikit-learn]\n",
            "   ------------------------------ --------- 3/4 [scikit-learn]\n",
            "   ------------------------------ --------- 3/4 [scikit-learn]\n",
            "   ------------------------------ --------- 3/4 [scikit-learn]\n",
            "   ------------------------------ --------- 3/4 [scikit-learn]\n",
            "   ------------------------------ --------- 3/4 [scikit-learn]\n",
            "   ------------------------------ --------- 3/4 [scikit-learn]\n",
            "   ------------------------------ --------- 3/4 [scikit-learn]\n",
            "   ------------------------------ --------- 3/4 [scikit-learn]\n",
            "   ------------------------------ --------- 3/4 [scikit-learn]\n",
            "   ------------------------------ --------- 3/4 [scikit-learn]\n",
            "   ------------------------------ --------- 3/4 [scikit-learn]\n",
            "   ------------------------------ --------- 3/4 [scikit-learn]\n",
            "   ------------------------------ --------- 3/4 [scikit-learn]\n",
            "   ------------------------------ --------- 3/4 [scikit-learn]\n",
            "   ------------------------------ --------- 3/4 [scikit-learn]\n",
            "   ------------------------------ --------- 3/4 [scikit-learn]\n",
            "   ------------------------------ --------- 3/4 [scikit-learn]\n",
            "   ------------------------------ --------- 3/4 [scikit-learn]\n",
            "   ------------------------------ --------- 3/4 [scikit-learn]\n",
            "   ------------------------------ --------- 3/4 [scikit-learn]\n",
            "   ------------------------------ --------- 3/4 [scikit-learn]\n",
            "   ------------------------------ --------- 3/4 [scikit-learn]\n",
            "   ------------------------------ --------- 3/4 [scikit-learn]\n",
            "   ------------------------------ --------- 3/4 [scikit-learn]\n",
            "   ------------------------------ --------- 3/4 [scikit-learn]\n",
            "   ------------------------------ --------- 3/4 [scikit-learn]\n",
            "   ------------------------------ --------- 3/4 [scikit-learn]\n",
            "   ------------------------------ --------- 3/4 [scikit-learn]\n",
            "   ------------------------------ --------- 3/4 [scikit-learn]\n",
            "   ------------------------------ --------- 3/4 [scikit-learn]\n",
            "   ------------------------------ --------- 3/4 [scikit-learn]\n",
            "   ------------------------------ --------- 3/4 [scikit-learn]\n",
            "   ------------------------------ --------- 3/4 [scikit-learn]\n",
            "   ------------------------------ --------- 3/4 [scikit-learn]\n",
            "   ------------------------------ --------- 3/4 [scikit-learn]\n",
            "   ------------------------------ --------- 3/4 [scikit-learn]\n",
            "   ------------------------------ --------- 3/4 [scikit-learn]\n",
            "   ------------------------------ --------- 3/4 [scikit-learn]\n",
            "   ------------------------------ --------- 3/4 [scikit-learn]\n",
            "   ------------------------------ --------- 3/4 [scikit-learn]\n",
            "   ------------------------------ --------- 3/4 [scikit-learn]\n",
            "   ------------------------------ --------- 3/4 [scikit-learn]\n",
            "   ------------------------------ --------- 3/4 [scikit-learn]\n",
            "   ------------------------------ --------- 3/4 [scikit-learn]\n",
            "   ------------------------------ --------- 3/4 [scikit-learn]\n",
            "   ------------------------------ --------- 3/4 [scikit-learn]\n",
            "   ------------------------------ --------- 3/4 [scikit-learn]\n",
            "   ------------------------------ --------- 3/4 [scikit-learn]\n",
            "   ------------------------------ --------- 3/4 [scikit-learn]\n",
            "   ------------------------------ --------- 3/4 [scikit-learn]\n",
            "   ------------------------------ --------- 3/4 [scikit-learn]\n",
            "   ------------------------------ --------- 3/4 [scikit-learn]\n",
            "   ------------------------------ --------- 3/4 [scikit-learn]\n",
            "   ------------------------------ --------- 3/4 [scikit-learn]\n",
            "   ------------------------------ --------- 3/4 [scikit-learn]\n",
            "   ------------------------------ --------- 3/4 [scikit-learn]\n",
            "   ------------------------------ --------- 3/4 [scikit-learn]\n",
            "   ------------------------------ --------- 3/4 [scikit-learn]\n",
            "   ------------------------------ --------- 3/4 [scikit-learn]\n",
            "   ------------------------------ --------- 3/4 [scikit-learn]\n",
            "   ------------------------------ --------- 3/4 [scikit-learn]\n",
            "   ------------------------------ --------- 3/4 [scikit-learn]\n",
            "   ------------------------------ --------- 3/4 [scikit-learn]\n",
            "   ------------------------------ --------- 3/4 [scikit-learn]\n",
            "   ------------------------------ --------- 3/4 [scikit-learn]\n",
            "   ------------------------------ --------- 3/4 [scikit-learn]\n",
            "   ------------------------------ --------- 3/4 [scikit-learn]\n",
            "   ------------------------------ --------- 3/4 [scikit-learn]\n",
            "   ------------------------------ --------- 3/4 [scikit-learn]\n",
            "   ------------------------------ --------- 3/4 [scikit-learn]\n",
            "   ------------------------------ --------- 3/4 [scikit-learn]\n",
            "   ------------------------------ --------- 3/4 [scikit-learn]\n",
            "   ------------------------------ --------- 3/4 [scikit-learn]\n",
            "   ------------------------------ --------- 3/4 [scikit-learn]\n",
            "   ------------------------------ --------- 3/4 [scikit-learn]\n",
            "   ------------------------------ --------- 3/4 [scikit-learn]\n",
            "   ------------------------------ --------- 3/4 [scikit-learn]\n",
            "   ------------------------------ --------- 3/4 [scikit-learn]\n",
            "   ------------------------------ --------- 3/4 [scikit-learn]\n",
            "   ------------------------------ --------- 3/4 [scikit-learn]\n",
            "   ------------------------------ --------- 3/4 [scikit-learn]\n",
            "   ------------------------------ --------- 3/4 [scikit-learn]\n",
            "   ------------------------------ --------- 3/4 [scikit-learn]\n",
            "   ------------------------------ --------- 3/4 [scikit-learn]\n",
            "   ------------------------------ --------- 3/4 [scikit-learn]\n",
            "   ------------------------------ --------- 3/4 [scikit-learn]\n",
            "   ------------------------------ --------- 3/4 [scikit-learn]\n",
            "   ------------------------------ --------- 3/4 [scikit-learn]\n",
            "   ---------------------------------------- 4/4 [scikit-learn]\n",
            "\n",
            "Successfully installed joblib-1.5.1 scikit-learn-1.7.0 scipy-1.16.0 threadpoolctl-3.6.0\n"
          ]
        }
      ],
      "source": [
        "pip install scikit-learn\n"
      ]
    },
    {
      "cell_type": "code",
      "execution_count": 3,
      "metadata": {
        "colab": {
          "base_uri": "https://localhost:8080/"
        },
        "id": "C2aHMAn9fwjD",
        "outputId": "5a49a0d4-871a-4f9f-8ea2-eb5dfa356525"
      },
      "outputs": [
        {
          "name": "stdout",
          "output_type": "stream",
          "text": [
            "Collecting sklearn\n",
            "  Using cached sklearn-0.0.post12.tar.gz (2.6 kB)\n",
            "  Installing build dependencies: started\n",
            "  Installing build dependencies: finished with status 'done'\n",
            "  Getting requirements to build wheel: started\n",
            "  Getting requirements to build wheel: finished with status 'error'\n",
            "Note: you may need to restart the kernel to use updated packages.\n"
          ]
        },
        {
          "name": "stderr",
          "output_type": "stream",
          "text": [
            "  error: subprocess-exited-with-error\n",
            "  \n",
            "  × Getting requirements to build wheel did not run successfully.\n",
            "  │ exit code: 1\n",
            "  ╰─> [15 lines of output]\n",
            "      The 'sklearn' PyPI package is deprecated, use 'scikit-learn'\n",
            "      rather than 'sklearn' for pip commands.\n",
            "      \n",
            "      Here is how to fix this error in the main use cases:\n",
            "      - use 'pip install scikit-learn' rather than 'pip install sklearn'\n",
            "      - replace 'sklearn' by 'scikit-learn' in your pip requirements files\n",
            "        (requirements.txt, setup.py, setup.cfg, Pipfile, etc ...)\n",
            "      - if the 'sklearn' package is used by one of your dependencies,\n",
            "        it would be great if you take some time to track which package uses\n",
            "        'sklearn' instead of 'scikit-learn' and report it to their issue tracker\n",
            "      - as a last resort, set the environment variable\n",
            "        SKLEARN_ALLOW_DEPRECATED_SKLEARN_PACKAGE_INSTALL=True to avoid this error\n",
            "      \n",
            "      More information is available at\n",
            "      https://github.com/scikit-learn/sklearn-pypi-package\n",
            "      [end of output]\n",
            "  \n",
            "  note: This error originates from a subprocess, and is likely not a problem with pip.\n",
            "error: subprocess-exited-with-error\n",
            "\n",
            "× Getting requirements to build wheel did not run successfully.\n",
            "│ exit code: 1\n",
            "╰─> See above for output.\n",
            "\n",
            "note: This error originates from a subprocess, and is likely not a problem with pip.\n"
          ]
        },
        {
          "ename": "ModuleNotFoundError",
          "evalue": "No module named 'sklearn'",
          "output_type": "error",
          "traceback": [
            "\u001b[31m---------------------------------------------------------------------------\u001b[39m",
            "\u001b[31mModuleNotFoundError\u001b[39m                       Traceback (most recent call last)",
            "\u001b[36mCell\u001b[39m\u001b[36m \u001b[39m\u001b[32mIn[3]\u001b[39m\u001b[32m, line 6\u001b[39m\n\u001b[32m      1\u001b[39m get_ipython().run_line_magic(\u001b[33m'\u001b[39m\u001b[33mpip\u001b[39m\u001b[33m'\u001b[39m, \u001b[33m'\u001b[39m\u001b[33minstall sklearn\u001b[39m\u001b[33m'\u001b[39m)\n\u001b[32m      3\u001b[39m \u001b[38;5;66;03m# carregando uma função pertencente ao scikit-learn para realizar\u001b[39;00m\n\u001b[32m      4\u001b[39m \u001b[38;5;66;03m# automaticamente uma amostragem sem reposição aleatória e dividir\u001b[39;00m\n\u001b[32m      5\u001b[39m \u001b[38;5;66;03m# os dados em dois conjuntos\u001b[39;00m\n\u001b[32m----> \u001b[39m\u001b[32m6\u001b[39m \u001b[38;5;28;01mfrom\u001b[39;00m\u001b[38;5;250m \u001b[39m\u001b[34;01msklearn\u001b[39;00m\u001b[34;01m.\u001b[39;00m\u001b[34;01mmodel_selection\u001b[39;00m\u001b[38;5;250m \u001b[39m\u001b[38;5;28;01mimport\u001b[39;00m train_test_split\n\u001b[32m      8\u001b[39m \u001b[38;5;66;03m# importante lembrar que as 4 primeiras colunas são o nosso 'X'\u001b[39;00m\n\u001b[32m      9\u001b[39m \u001b[38;5;66;03m# ou seja, os dados de entrada do modelo, e que a última coluna\u001b[39;00m\n\u001b[32m     10\u001b[39m \u001b[38;5;66;03m# é o nosso 'y', ou seja, o dado que o modelo deve aprender a predizer\u001b[39;00m\n\u001b[32m     11\u001b[39m \u001b[38;5;28mprint\u001b[39m(\u001b[33m'\u001b[39m\u001b[33mexemplo de entrada (x):\u001b[39m\u001b[38;5;130;01m\\n\u001b[39;00m\u001b[33m'\u001b[39m, dataset.iloc[\u001b[32m4\u001b[39m, :\u001b[32m4\u001b[39m])\n",
            "\u001b[31mModuleNotFoundError\u001b[39m: No module named 'sklearn'"
          ]
        }
      ],
      "source": [
        "%pip install sklearn\n",
        "\n",
        "# carregando uma função pertencente ao scikit-learn para realizar\n",
        "# automaticamente uma amostragem sem reposição aleatória e dividir\n",
        "# os dados em dois conjuntos\n",
        "from sklearn.model_selection import train_test_split\n",
        "\n",
        "# importante lembrar que as 4 primeiras colunas são o nosso 'X'\n",
        "# ou seja, os dados de entrada do modelo, e que a última coluna\n",
        "# é o nosso 'y', ou seja, o dado que o modelo deve aprender a predizer\n",
        "print('exemplo de entrada (x):\\n', dataset.iloc[4, :4])\n",
        "print('exemplo de saída (y):\\n', dataset.iloc[4, 4])"
      ]
    },
    {
      "cell_type": "code",
      "execution_count": null,
      "metadata": {
        "colab": {
          "base_uri": "https://localhost:8080/"
        },
        "id": "oSjkCUwBZm-w",
        "outputId": "2200ef5c-d04c-445b-8f7b-1db391f8626a"
      },
      "outputs": [
        {
          "name": "stdout",
          "output_type": "stream",
          "text": [
            "dimensoes de X (5596, 4)\n",
            "dimensoes de y (5596,)\n"
          ]
        }
      ],
      "source": [
        "# criando os dados de entrada e saída para treinamento e validação\n",
        "# usando o método 'values' ele retorna um array bidimensional\n",
        "# para serem inseridos na função train_test_split\n",
        "array = dataset.values\n",
        "\n",
        "X = array[:, :4]\n",
        "y = array[:, 4]\n",
        "\n",
        "print(\"dimensoes de X\", X.shape)\n",
        "print(\"dimensoes de y\", y.shape)"
      ]
    },
    {
      "cell_type": "code",
      "execution_count": null,
      "metadata": {
        "colab": {
          "base_uri": "https://localhost:8080/"
        },
        "id": "mA0CiJnNa-LI",
        "outputId": "f1614a49-4638-47f6-d802-4554608084fe"
      },
      "outputs": [
        {
          "name": "stdout",
          "output_type": "stream",
          "text": [
            "\n",
            " dimensao de X_train (4476, 4) e y_train (4476,)\n",
            "\n",
            " dimensao de X_test (1120, 4) e y_train (1120,)\n"
          ]
        }
      ],
      "source": [
        "\n",
        "# utilizando um critério de divisão percentual 20% na função train_test_split\n",
        "X_train, X_test, y_train, y_test = train_test_split(X, y, test_size=0.2, random_state=1)\n",
        "# olhando alguns dados referentes aos conjuntos\n",
        "print(f'\\n dimensao de X_train {X_train.shape} e y_train {y_train.shape}')\n",
        "print(f'\\n dimensao de X_test {X_test.shape} e y_train {y_test.shape}')"
      ]
    },
    {
      "cell_type": "code",
      "execution_count": null,
      "metadata": {
        "colab": {
          "base_uri": "https://localhost:8080/"
        },
        "id": "Gzcz-2GT70yA",
        "outputId": "d320166e-8052-4949-d86d-b473a158b440"
      },
      "outputs": [
        {
          "name": "stdout",
          "output_type": "stream",
          "text": [
            "state\n",
            "MG    854\n",
            "SP    646\n",
            "RS    498\n",
            "BA    418\n",
            "PR    400\n",
            "SC    296\n",
            "GO    247\n",
            "PI    225\n",
            "PB    224\n",
            "MA    218\n",
            "PE    186\n",
            "CE    185\n",
            "RN    168\n",
            "PA    145\n",
            "MT    142\n",
            "TO    140\n",
            "AL    103\n",
            "RJ     93\n",
            "MS     80\n",
            "ES     79\n",
            "SE     76\n",
            "AM     63\n",
            "RO     53\n",
            "AC     23\n",
            "AP     17\n",
            "RR     16\n",
            "DF      1\n",
            "Name: count, dtype: int64\n",
            "state\n",
            "MG    0.152609\n",
            "SP    0.115440\n",
            "RS    0.088992\n",
            "BA    0.074696\n",
            "PR    0.071480\n",
            "SC    0.052895\n",
            "GO    0.044139\n",
            "PI    0.040207\n",
            "PB    0.040029\n",
            "MA    0.038956\n",
            "PE    0.033238\n",
            "CE    0.033059\n",
            "RN    0.030021\n",
            "PA    0.025911\n",
            "MT    0.025375\n",
            "TO    0.025018\n",
            "AL    0.018406\n",
            "RJ    0.016619\n",
            "MS    0.014296\n",
            "ES    0.014117\n",
            "SE    0.013581\n",
            "AM    0.011258\n",
            "RO    0.009471\n",
            "AC    0.004110\n",
            "AP    0.003038\n",
            "RR    0.002859\n",
            "DF    0.000179\n",
            "Name: proportion, dtype: float64\n"
          ]
        }
      ],
      "source": [
        "import pandas as pd\n",
        "\n",
        "# Exemplo: dataframe com coluna \"label\" que indica a classe\n",
        "print(dataset['state'].value_counts())\n",
        "print(dataset['state'].value_counts(normalize=True))  # porcentagem\n"
      ]
    },
    {
      "cell_type": "markdown",
      "metadata": {
        "id": "j5Cx9oqgcFNE"
      },
      "source": [
        "# 3 - Treinamento do Modelo\n",
        "\n",
        "Definindo um modelo e realizando o treinamento\n",
        "\n",
        "<div>\n",
        "<img src=\"https://github.com/rafaelmm82/ufpb-ia-20201/raw/master/02-fundamentos_de_ia/02_aula_pratica_classificacao_iris/04_treinamento_modelo.jpg\", width=\"640\"/>\n",
        "</div>"
      ]
    },
    {
      "cell_type": "code",
      "execution_count": 1,
      "metadata": {
        "id": "hiIYLXKgio7r"
      },
      "outputs": [
        {
          "ename": "ModuleNotFoundError",
          "evalue": "No module named 'sklearn'",
          "output_type": "error",
          "traceback": [
            "\u001b[31m---------------------------------------------------------------------------\u001b[39m",
            "\u001b[31mModuleNotFoundError\u001b[39m                       Traceback (most recent call last)",
            "\u001b[36mCell\u001b[39m\u001b[36m \u001b[39m\u001b[32mIn[1]\u001b[39m\u001b[32m, line 2\u001b[39m\n\u001b[32m      1\u001b[39m \u001b[38;5;66;03m# carregando a classe pra criar um modelo do scikit-learn\u001b[39;00m\n\u001b[32m----> \u001b[39m\u001b[32m2\u001b[39m \u001b[38;5;28;01mfrom\u001b[39;00m\u001b[38;5;250m \u001b[39m\u001b[34;01msklearn\u001b[39;00m\u001b[34;01m.\u001b[39;00m\u001b[34;01msvm\u001b[39;00m\u001b[38;5;250m \u001b[39m\u001b[38;5;28;01mimport\u001b[39;00m SVC\n\u001b[32m      4\u001b[39m \u001b[38;5;66;03m# instanciando um objeto do modelo SVC com parâmetros padrões\u001b[39;00m\n\u001b[32m      5\u001b[39m model = SVC(gamma=\u001b[33m'\u001b[39m\u001b[33mauto\u001b[39m\u001b[33m'\u001b[39m)\n",
            "\u001b[31mModuleNotFoundError\u001b[39m: No module named 'sklearn'"
          ]
        }
      ],
      "source": [
        "# carregando a classe pra criar um modelo do scikit-learn\n",
        "from sklearn.svm import SVC\n",
        "\n",
        "# instanciando um objeto do modelo SVC com parâmetros padrões\n",
        "model = SVC(gamma='auto')\n"
      ]
    },
    {
      "cell_type": "code",
      "execution_count": null,
      "metadata": {
        "colab": {
          "base_uri": "https://localhost:8080/",
          "height": 211
        },
        "id": "8ek8LvJNeN3N",
        "outputId": "448e3051-68d0-42b9-841a-d7de1268a6d8"
      },
      "outputs": [
        {
          "ename": "IndexError",
          "evalue": "only integers, slices (`:`), ellipsis (`...`), numpy.newaxis (`None`) and integer or boolean arrays are valid indices",
          "output_type": "error",
          "traceback": [
            "\u001b[0;31m---------------------------------------------------------------------------\u001b[0m",
            "\u001b[0;31mIndexError\u001b[0m                                Traceback (most recent call last)",
            "\u001b[0;32m/tmp/ipython-input-132-534281431.py\u001b[0m in \u001b[0;36m<cell line: 0>\u001b[0;34m()\u001b[0m\n\u001b[1;32m      5\u001b[0m \u001b[0;34m\u001b[0m\u001b[0m\n\u001b[1;32m      6\u001b[0m \u001b[0mle\u001b[0m \u001b[0;34m=\u001b[0m \u001b[0mLabelEncoder\u001b[0m\u001b[0;34m(\u001b[0m\u001b[0;34m)\u001b[0m\u001b[0;34m\u001b[0m\u001b[0;34m\u001b[0m\u001b[0m\n\u001b[0;32m----> 7\u001b[0;31m \u001b[0mX\u001b[0m\u001b[0;34m[\u001b[0m\u001b[0;34m'state'\u001b[0m\u001b[0;34m]\u001b[0m \u001b[0;34m=\u001b[0m \u001b[0mle\u001b[0m\u001b[0;34m.\u001b[0m\u001b[0mfit_transform\u001b[0m\u001b[0;34m(\u001b[0m\u001b[0mX\u001b[0m\u001b[0;34m[\u001b[0m\u001b[0;34m'state'\u001b[0m\u001b[0;34m]\u001b[0m\u001b[0;34m)\u001b[0m\u001b[0;34m\u001b[0m\u001b[0;34m\u001b[0m\u001b[0m\n\u001b[0m\u001b[1;32m      8\u001b[0m \u001b[0;34m\u001b[0m\u001b[0m\n\u001b[1;32m      9\u001b[0m \u001b[0mX_train\u001b[0m\u001b[0;34m[\u001b[0m\u001b[0;34m'state'\u001b[0m\u001b[0;34m]\u001b[0m \u001b[0;34m=\u001b[0m \u001b[0mle\u001b[0m\u001b[0;34m.\u001b[0m\u001b[0mfit_transform\u001b[0m\u001b[0;34m(\u001b[0m\u001b[0mX_train\u001b[0m\u001b[0;34m[\u001b[0m\u001b[0;34m'state'\u001b[0m\u001b[0;34m]\u001b[0m\u001b[0;34m)\u001b[0m\u001b[0;34m\u001b[0m\u001b[0;34m\u001b[0m\u001b[0m\n",
            "\u001b[0;31mIndexError\u001b[0m: only integers, slices (`:`), ellipsis (`...`), numpy.newaxis (`None`) and integer or boolean arrays are valid indices"
          ]
        }
      ],
      "source": [
        "# executa o método de treinamento 'fit', para ajustar os parâmetros\n",
        "# do modelo, a partir de um algoritmo de aprendizagem, em função\n",
        "# dos valores contidos no conjunto de dados\n",
        "from sklearn.preprocessing import LabelEncoder\n",
        "\n",
        "le = LabelEncoder()\n",
        "X['state'] = le.fit_transform(X['state'])\n",
        "\n",
        "X_train['state'] = le.fit_transform(X_train['state'])\n",
        "X_train = X_train.drop('state', axis=1)\n",
        "\n",
        "model.fit(X_train, y_train)\n",
        "\n",
        "model.fit(X_train, y_train)"
      ]
    },
    {
      "cell_type": "markdown",
      "metadata": {
        "id": "tDkFOqlHeoOx"
      },
      "source": [
        "# 4 - Avaliação do Modelo\n",
        "\n",
        "Utilizando o conjunto de dados de teste define-se uma métrica estatística de\n",
        "avaliação e deduz-se a qualidade do resultado do treinamento\n",
        "\n",
        "<div>\n",
        "<br/>\n",
        "<img src=\"https://github.com/rafaelmm82/ufpb-ia-20201/raw/master/02-fundamentos_de_ia/02_aula_pratica_classificacao_iris/05_avaliacao_modelo.jpg\", width=\"640\"/>\n",
        "<div/>"
      ]
    },
    {
      "cell_type": "code",
      "execution_count": null,
      "metadata": {
        "id": "BDGM-JgPfN5W"
      },
      "outputs": [],
      "source": []
    },
    {
      "cell_type": "code",
      "execution_count": null,
      "metadata": {
        "id": "2TgjXLqNlZjz"
      },
      "outputs": [],
      "source": [
        "# carregando funções da biblioteca scikit-learn que auxiliam no cálculo\n",
        "# das avaliações dos modelos\n",
        "from sklearn.metrics import classification_report, confusion_matrix, accuracy_score\n",
        "\n",
        "# realizando as predições utilizando o conjunto de testes\n",
        "prediction = model.predict(X_test)\n"
      ]
    },
    {
      "cell_type": "code",
      "execution_count": null,
      "metadata": {
        "colab": {
          "base_uri": "https://localhost:8080/"
        },
        "id": "qgRflsc6lhaF",
        "outputId": "5430d229-d766-4a11-a33b-6c4dca868bd8"
      },
      "outputs": [
        {
          "name": "stdout",
          "output_type": "stream",
          "text": [
            "Valores preditos:\n",
            " ['Setosa' 'Versicolor' 'Versicolor' 'Setosa' 'Virginica' 'Versicolor'\n",
            " 'Virginica' 'Setosa' 'Setosa' 'Virginica' 'Versicolor' 'Setosa'\n",
            " 'Virginica' 'Versicolor' 'Versicolor' 'Setosa' 'Versicolor' 'Versicolor'\n",
            " 'Setosa' 'Setosa' 'Versicolor' 'Versicolor' 'Virginica' 'Setosa'\n",
            " 'Virginica' 'Versicolor' 'Setosa' 'Setosa' 'Versicolor' 'Virginica']\n",
            "Valores esperado:\n",
            " ['Setosa' 'Versicolor' 'Versicolor' 'Setosa' 'Virginica' 'Versicolor'\n",
            " 'Virginica' 'Setosa' 'Setosa' 'Virginica' 'Versicolor' 'Setosa'\n",
            " 'Virginica' 'Versicolor' 'Versicolor' 'Setosa' 'Versicolor' 'Versicolor'\n",
            " 'Setosa' 'Setosa' 'Versicolor' 'Versicolor' 'Versicolor' 'Setosa'\n",
            " 'Virginica' 'Versicolor' 'Setosa' 'Setosa' 'Versicolor' 'Virginica']\n",
            "Comparativo:\n",
            " [ True  True  True  True  True  True  True  True  True  True  True  True\n",
            "  True  True  True  True  True  True  True  True  True  True False  True\n",
            "  True  True  True  True  True  True]\n"
          ]
        }
      ],
      "source": [
        "# para efeitos de comparação e devido ao fato do conjunto ser pequeno\n",
        "# podemos observar visualmente o resultdo da predição e o valor real do dataset\n",
        "print(\"Valores preditos:\\n\", prediction)\n",
        "print(\"Valores esperado:\\n\", y_test)\n",
        "print(\"Comparativo:\\n\", y_test == prediction)\n"
      ]
    },
    {
      "cell_type": "code",
      "execution_count": null,
      "metadata": {
        "colab": {
          "base_uri": "https://localhost:8080/"
        },
        "id": "avP1jXWSgjPo",
        "outputId": "c7f8502e-9bf4-4b19-9624-c8bd95676463"
      },
      "outputs": [
        {
          "name": "stdout",
          "output_type": "stream",
          "text": [
            "Acurácio do modelo:\n",
            " 0.9666666666666667\n"
          ]
        }
      ],
      "source": [
        "# usando funções e métricas mais robustas para avaliar o desempenho\n",
        "# exibindo a acurácia do modelo para este treinamento\n",
        "print(\"Acurácio do modelo:\\n\", accuracy_score(y_test, prediction))"
      ]
    },
    {
      "cell_type": "code",
      "execution_count": null,
      "metadata": {
        "id": "H7PhyoJFl4ZS"
      },
      "outputs": [],
      "source": [
        "# exibindo a matrix confusão VP, FP, VN FN\n"
      ]
    },
    {
      "cell_type": "code",
      "execution_count": null,
      "metadata": {
        "id": "f45IKwWvmn6y"
      },
      "outputs": [],
      "source": [
        "# exibindo um relatório mais completo com os índices:\n",
        "# precisão, recall, f1-score e support\n"
      ]
    },
    {
      "cell_type": "markdown",
      "metadata": {
        "id": "Kl9e3XszhV48"
      },
      "source": [
        "## Qual conclusão podemos tirar do processo de treinamento?\n",
        "\n",
        "E se, por exemplo, tivéssemos usado outros valores para divisão dos dados?"
      ]
    },
    {
      "cell_type": "code",
      "execution_count": null,
      "metadata": {
        "id": "tL_d5GVBhmdU"
      },
      "outputs": [],
      "source": [
        "# para avaliar o que aconteceria se tivéssemos utilizado outra propoção de dados\n",
        "# para treino e validação podemos refazer parte do procedimento\n",
        "\n",
        "# Cria novamente o modelo, treina, prediz e avalia\n"
      ]
    }
  ],
  "metadata": {
    "colab": {
      "provenance": []
    },
    "kernelspec": {
      "display_name": "Python 3",
      "name": "python3"
    },
    "language_info": {
      "codemirror_mode": {
        "name": "ipython",
        "version": 3
      },
      "file_extension": ".py",
      "mimetype": "text/x-python",
      "name": "python",
      "nbconvert_exporter": "python",
      "pygments_lexer": "ipython3",
      "version": "3.13.5"
    }
  },
  "nbformat": 4,
  "nbformat_minor": 0
}
